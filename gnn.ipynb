{
 "cells": [
  {
   "cell_type": "code",
   "execution_count": 16,
   "id": "e4726f6c",
   "metadata": {},
   "outputs": [
    {
     "name": "stdout",
     "output_type": "stream",
     "text": [
      "Requirement already satisfied: pyarrow in /Users/andresilva/miniconda3/lib/python3.12/site-packages (18.0.0)\n",
      "Requirement already satisfied: torch-geometric in /Users/andresilva/miniconda3/lib/python3.12/site-packages (2.7.0)\n",
      "Requirement already satisfied: aiohttp in /Users/andresilva/miniconda3/lib/python3.12/site-packages (from torch-geometric) (3.11.7)\n",
      "Requirement already satisfied: fsspec in /Users/andresilva/miniconda3/lib/python3.12/site-packages (from torch-geometric) (2024.9.0)\n",
      "Requirement already satisfied: jinja2 in /Users/andresilva/miniconda3/lib/python3.12/site-packages (from torch-geometric) (3.1.4)\n",
      "Requirement already satisfied: numpy in /Users/andresilva/miniconda3/lib/python3.12/site-packages (from torch-geometric) (1.26.4)\n",
      "Requirement already satisfied: psutil>=5.8.0 in /Users/andresilva/miniconda3/lib/python3.12/site-packages (from torch-geometric) (5.9.0)\n",
      "Requirement already satisfied: pyparsing in /Users/andresilva/miniconda3/lib/python3.12/site-packages (from torch-geometric) (3.2.0)\n",
      "Requirement already satisfied: requests in /Users/andresilva/miniconda3/lib/python3.12/site-packages (from torch-geometric) (2.32.3)\n",
      "Requirement already satisfied: tqdm in /Users/andresilva/miniconda3/lib/python3.12/site-packages (from torch-geometric) (4.66.5)\n",
      "Requirement already satisfied: xxhash in /Users/andresilva/miniconda3/lib/python3.12/site-packages (from torch-geometric) (3.5.0)\n",
      "Requirement already satisfied: aiohappyeyeballs>=2.3.0 in /Users/andresilva/miniconda3/lib/python3.12/site-packages (from aiohttp->torch-geometric) (2.4.3)\n",
      "Requirement already satisfied: aiosignal>=1.1.2 in /Users/andresilva/miniconda3/lib/python3.12/site-packages (from aiohttp->torch-geometric) (1.3.1)\n",
      "Requirement already satisfied: attrs>=17.3.0 in /Users/andresilva/miniconda3/lib/python3.12/site-packages (from aiohttp->torch-geometric) (24.2.0)\n",
      "Requirement already satisfied: frozenlist>=1.1.1 in /Users/andresilva/miniconda3/lib/python3.12/site-packages (from aiohttp->torch-geometric) (1.5.0)\n",
      "Requirement already satisfied: multidict<7.0,>=4.5 in /Users/andresilva/miniconda3/lib/python3.12/site-packages (from aiohttp->torch-geometric) (6.1.0)\n",
      "Requirement already satisfied: propcache>=0.2.0 in /Users/andresilva/miniconda3/lib/python3.12/site-packages (from aiohttp->torch-geometric) (0.2.0)\n",
      "Requirement already satisfied: yarl<2.0,>=1.17.0 in /Users/andresilva/miniconda3/lib/python3.12/site-packages (from aiohttp->torch-geometric) (1.18.0)\n",
      "Requirement already satisfied: MarkupSafe>=2.0 in /Users/andresilva/miniconda3/lib/python3.12/site-packages (from jinja2->torch-geometric) (3.0.2)\n",
      "Requirement already satisfied: charset-normalizer<4,>=2 in /Users/andresilva/miniconda3/lib/python3.12/site-packages (from requests->torch-geometric) (3.3.2)\n",
      "Requirement already satisfied: idna<4,>=2.5 in /Users/andresilva/miniconda3/lib/python3.12/site-packages (from requests->torch-geometric) (3.7)\n",
      "Requirement already satisfied: urllib3<3,>=1.21.1 in /Users/andresilva/miniconda3/lib/python3.12/site-packages (from requests->torch-geometric) (2.2.3)\n",
      "Requirement already satisfied: certifi>=2017.4.17 in /Users/andresilva/miniconda3/lib/python3.12/site-packages (from requests->torch-geometric) (2025.1.31)\n"
     ]
    }
   ],
   "source": [
    "!pip install pyarrow\n",
    "!pip install torch-geometric\n",
    "!pip install -q torch-scatter -f https://data.pyg.org/whl/torch-${TORCH}.html\n",
    "!pip install -q torch-sparse -f https://data.pyg.org/whl/torch-${TORCH}.html\n",
    "!pip install -q git+https://github.com/pyg-team/pytorch_geometric.git\n"
   ]
  },
  {
   "cell_type": "markdown",
   "id": "d617f3ed",
   "metadata": {},
   "source": [
    "# Helper function for visualization."
   ]
  },
  {
   "cell_type": "code",
   "execution_count": null,
   "id": "df403d43",
   "metadata": {},
   "outputs": [],
   "source": [
    "%matplotlib inline\n",
    "import networkx as nx\n",
    "import matplotlib.pyplot as plt\n",
    "\n",
    "\n",
    "def visualize_graph(G, color):\n",
    "    plt.figure(figsize=(7,7))\n",
    "    plt.xticks([])\n",
    "    plt.yticks([])\n",
    "    nx.draw_networkx(G, pos=nx.spring_layout(G, seed=42), with_labels=False,\n",
    "                     node_color=color, cmap=\"Set2\")\n",
    "    plt.show()\n",
    "\n",
    "\n",
    "def visualize_embedding(h, color, epoch=None, loss=None):\n",
    "    plt.figure(figsize=(7,7))\n",
    "    plt.xticks([])\n",
    "    plt.yticks([])\n",
    "    h = h.detach().cpu().numpy()\n",
    "    plt.scatter(h[:, 0], h[:, 1], s=140, c=color, cmap=\"Set2\")\n",
    "    if epoch is not None and loss is not None:\n",
    "        plt.xlabel(f'Epoch: {epoch}, Loss: {loss.item():.4f}', fontsize=16)\n",
    "    plt.show()"
   ]
  },
  {
   "cell_type": "code",
   "execution_count": 19,
   "id": "ba8362ed",
   "metadata": {},
   "outputs": [],
   "source": [
    "import pyarrow.feather as feather\n",
    "table = feather.read_table('dataset/data_andre.feather', memory_map=True)"
   ]
  },
  {
   "cell_type": "code",
   "execution_count": null,
   "id": "43818ab0",
   "metadata": {},
   "outputs": [],
   "source": [
    "import pyarrow as pa\n",
    "import pyarrow.compute as pc\n",
    "target_col  = 'value'\n",
    "series_keys = ['store_id', 'item_id']\n",
    "promo_pairs = ['FRPG','GAS','BOGO','DISC','CIRC','CIRE','CLCP','LFPE']\n",
    "dynamic_cols = [f'promo_type_{p}' for p in promo_pairs] + \\\n",
    "               [f'promo_value_{p}' for p in promo_pairs]\n",
    "\n",
    "# If you want simple time features without pandas:\n",
    "# day of week from timestamp (Mon=0)\n",
    "dow = pc.day_of_week(table['date']) - 1\n",
    "table = table.append_column('dow', dow)  # int32\n",
    "dynamic_cols += ['dow']\n",
    "\n",
    "# Static categoricals you might embed later (we'll keep as-is or dictionary-encode)\n",
    "static_cat = ['cat_label','sdep_label','dep_label','dmn_label']\n"
   ]
  },
  {
   "cell_type": "code",
   "execution_count": null,
   "id": "24a51213",
   "metadata": {},
   "outputs": [],
   "source": []
  },
  {
   "cell_type": "code",
   "execution_count": null,
   "id": "3e8fc356",
   "metadata": {},
   "outputs": [],
   "source": []
  }
 ],
 "metadata": {
  "kernelspec": {
   "display_name": "base",
   "language": "python",
   "name": "python3"
  },
  "language_info": {
   "codemirror_mode": {
    "name": "ipython",
    "version": 3
   },
   "file_extension": ".py",
   "mimetype": "text/x-python",
   "name": "python",
   "nbconvert_exporter": "python",
   "pygments_lexer": "ipython3",
   "version": "3.12.2"
  }
 },
 "nbformat": 4,
 "nbformat_minor": 5
}
